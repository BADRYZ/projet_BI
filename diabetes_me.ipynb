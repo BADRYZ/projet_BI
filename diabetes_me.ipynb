{
  "cells": [
    {
      "cell_type": "markdown",
      "metadata": {
        "id": "Qxq327JAn3Wq"
      },
      "source": [
        "# Problem Framing\n",
        "\n",
        "The goal of this notebook is to develop and test different strategies of data imputation. We're gonna be using both supervised and unsupervised methods, and both traditional Machine Learning algorithms and state-of-the-art deep learning solutions.\n",
        "The discriminative ML methods we're gonna be using are:\n",
        "- KNN Imputer\n",
        "- Iterative Imputer\n",
        "\n",
        "And the DL methods include:\n",
        "- Iterative Multi-layer Perceptron (MLP) Imputer\n",
        "- Auto-encoder Imputer\n",
        "- Generative Adversarial Network (GAN) Imputer\n",
        "\n",
        "# Selecting a performance measure\n",
        "\n",
        "In this notebook, we're working on the diabetes dataset, which includes numerical attributes only. A good performance measure would be the `root mean squared error` (RMSE) averaged over all the predicted columns.\n"
      ]
    },
    {
      "cell_type": "markdown",
      "source": [
        "# Requirements"
      ],
      "metadata": {
        "id": "wGoOlC6IoWMm"
      }
    },
    {
      "cell_type": "code",
      "source": [
        "import os\n",
        "import random\n",
        "import numpy as np\n",
        "import pandas as pd\n",
        "from math import sqrt\n",
        "\n",
        "from sklearn.metrics import mean_squared_error\n",
        "from sklearn.preprocessing import MinMaxScaler\n",
        "\n",
        "import torch\n",
        "import torch.nn as nn\n",
        "import torch.utils.data\n",
        "import torch.optim as optim"
      ],
      "metadata": {
        "id": "9G5HAopnoc3n"
      },
      "execution_count": 16,
      "outputs": []
    },
    {
      "cell_type": "markdown",
      "metadata": {
        "id": "tNYZEyxhn3W3"
      },
      "source": [
        "# Download the data"
      ]
    },
    {
      "cell_type": "code",
      "execution_count": 17,
      "metadata": {
        "colab": {
          "base_uri": "https://localhost:8080/"
        },
        "id": "cHVYHVhun3W4",
        "outputId": "8395d399-aee0-4861-a02e-d3cc8c66557c"
      },
      "outputs": [
        {
          "output_type": "stream",
          "name": "stdout",
          "text": [
            "Path to dataset files: /root/.cache/kagglehub/datasets/mathchi/diabetes-data-set/versions/1\n"
          ]
        }
      ],
      "source": [
        "import kagglehub\n",
        "\n",
        "# Download latest version\n",
        "path = kagglehub.dataset_download(\"mathchi/diabetes-data-set\")\n",
        "\n",
        "print(\"Path to dataset files:\", path)"
      ]
    },
    {
      "cell_type": "markdown",
      "source": [
        "# Set Args"
      ],
      "metadata": {
        "id": "bNkvNhn9opRe"
      }
    },
    {
      "cell_type": "code",
      "source": [
        "theta = 7\n",
        "num_epochs = 500\n",
        "dropout_ratio = 0.5\n",
        "\n",
        "data_path = '/root/.cache/kagglehub/datasets/mathchi/diabetes-data-set/versions/1/diabetes.csv'\n",
        "mechanism = 'mcar'\n",
        "method = 'uniform'\n",
        "\n",
        "test_size = 0.3\n",
        "use_cuda = True\n",
        "batch_size  = 8 # not in the paper"
      ],
      "metadata": {
        "id": "OFcRbEJnouIX"
      },
      "execution_count": 18,
      "outputs": []
    },
    {
      "cell_type": "markdown",
      "source": [
        "# Prepare Data"
      ],
      "metadata": {
        "id": "7ehkjydNo8sS"
      }
    },
    {
      "cell_type": "code",
      "source": [
        "df = pd.read_csv(data_path)\n",
        "df.columns"
      ],
      "metadata": {
        "colab": {
          "base_uri": "https://localhost:8080/"
        },
        "id": "CTZZ0QSjKtMv",
        "outputId": "6c00b857-1fa6-46ff-9dae-fbc5be92e28a"
      },
      "execution_count": 19,
      "outputs": [
        {
          "output_type": "execute_result",
          "data": {
            "text/plain": [
              "Index(['Pregnancies', 'Glucose', 'BloodPressure', 'SkinThickness', 'Insulin',\n",
              "       'BMI', 'DiabetesPedigreeFunction', 'Age', 'Outcome'],\n",
              "      dtype='object')"
            ]
          },
          "metadata": {},
          "execution_count": 19
        }
      ]
    },
    {
      "cell_type": "code",
      "source": [
        "data = pd.read_csv(data_path).values\n",
        "\n",
        "rows, cols = data.shape\n",
        "shuffled_index = np.random.permutation(rows)\n",
        "train_index = shuffled_index[:int(rows*(1-test_size))]\n",
        "test_index = shuffled_index[int(rows*(1-test_size)):]\n",
        "\n",
        "train_data = data[train_index, :]\n",
        "test_data = data[test_index, :]\n",
        "\n",
        "# standardized between 0 and 1\n",
        "scaler = MinMaxScaler()\n",
        "scaler.fit(train_data)\n",
        "train_data = scaler.transform(train_data)\n",
        "test_data = scaler.transform(test_data)"
      ],
      "metadata": {
        "id": "q168p71zpFHU"
      },
      "execution_count": 20,
      "outputs": []
    },
    {
      "cell_type": "code",
      "source": [
        "def missing_method(raw_data, mechanism='mcar', method='uniform', missing_threshold=0.2, random_state=None):\n",
        "    if random_state is not None:\n",
        "        np.random.seed(random_state)\n",
        "\n",
        "    data = raw_data.copy()\n",
        "    rows, cols = data.shape\n",
        "    t = missing_threshold\n",
        "\n",
        "    if mechanism == 'mcar':\n",
        "        v = np.random.uniform(size=(rows, cols))\n",
        "        if method == 'uniform':\n",
        "            mask = v <= t\n",
        "        elif method == 'random':\n",
        "            c = np.zeros(cols, dtype=bool)\n",
        "            c[np.random.choice(cols, cols // 2, replace=False)] = True\n",
        "            mask = (v <= t) & c[np.newaxis, :]\n",
        "        else:\n",
        "            raise ValueError(f\"Unknown method: {method}\")\n",
        "    elif mechanism == 'mnar':\n",
        "        sample_cols = np.random.choice(cols, 2, replace=False)\n",
        "        m1, m2 = np.median(data[:, sample_cols], axis=0)\n",
        "        v = np.random.uniform(size=(rows, cols))\n",
        "        m = (data[:, sample_cols[0]] <= m1) & (data[:, sample_cols[1]] >= m2)\n",
        "        mask = v <= t\n",
        "        if method == 'uniform':\n",
        "            mask &= m[:, np.newaxis]\n",
        "        elif method == 'random':\n",
        "            c = np.zeros(cols, dtype=bool)\n",
        "            c[np.random.choice(cols, cols // 2, replace=False)] = True\n",
        "            mask &= m[:, np.newaxis] & c[np.newaxis, :]\n",
        "        else:\n",
        "            raise ValueError(f\"Unknown method: {method}\")\n",
        "    else:\n",
        "        raise ValueError(f\"Unknown mechanism: {mechanism}\")\n",
        "\n",
        "    data[mask] = 0\n",
        "    return data, mask"
      ],
      "metadata": {
        "id": "LOIDULZipbYG"
      },
      "execution_count": 21,
      "outputs": []
    },
    {
      "cell_type": "code",
      "source": [
        "missed_data, mask = missing_method(test_data, mechanism=mechanism, method=method)\n",
        "\n",
        "missed_data = torch.from_numpy(missed_data).float()\n",
        "train_data = torch.from_numpy(train_data).float()\n",
        "\n",
        "train_loader = torch.utils.data.DataLoader(dataset=train_data,\n",
        "                                           batch_size=batch_size,\n",
        "                                           shuffle=True)"
      ],
      "metadata": {
        "id": "SP5PluslpviB"
      },
      "execution_count": 22,
      "outputs": []
    },
    {
      "cell_type": "code",
      "source": [
        "print(\"Original Data:\\n\", data)\n",
        "print(\"Modified Data (with missing values):\\n\", missed_data)\n",
        "print(\"Mask of Missing Values:\\n\", mask)"
      ],
      "metadata": {
        "colab": {
          "base_uri": "https://localhost:8080/"
        },
        "id": "3PQJ0vqRv07l",
        "outputId": "cfc1d7d1-e2c4-457f-a458-8fbba43ef4d9"
      },
      "execution_count": 23,
      "outputs": [
        {
          "output_type": "stream",
          "name": "stdout",
          "text": [
            "Original Data:\n",
            " [[  6.    148.     72.    ...   0.627  50.      1.   ]\n",
            " [  1.     85.     66.    ...   0.351  31.      0.   ]\n",
            " [  8.    183.     64.    ...   0.672  32.      1.   ]\n",
            " ...\n",
            " [  5.    121.     72.    ...   0.245  30.      0.   ]\n",
            " [  1.    126.     60.    ...   0.349  47.      1.   ]\n",
            " [  1.     93.     70.    ...   0.315  23.      0.   ]]\n",
            "Modified Data (with missing values):\n",
            " tensor([[0.1765, 0.0000, 0.6909,  ..., 0.0573, 0.2667, 0.0000],\n",
            "        [0.0588, 0.6231, 0.6727,  ..., 0.0098, 0.1500, 0.0000],\n",
            "        [0.0000, 0.5678, 0.0000,  ..., 0.3536, 0.0000, 0.0000],\n",
            "        ...,\n",
            "        [0.0000, 0.4724, 0.0000,  ..., 0.0791, 0.0667, 0.0000],\n",
            "        [0.5294, 0.6231, 0.0000,  ..., 0.0000, 0.2167, 0.0000],\n",
            "        [0.7059, 0.0000, 0.6727,  ..., 0.1333, 0.4500, 0.0000]])\n",
            "Mask of Missing Values:\n",
            " [[False  True False ... False False  True]\n",
            " [False False False ... False False False]\n",
            " [False False  True ... False  True False]\n",
            " ...\n",
            " [False False False ... False False False]\n",
            " [False False  True ...  True False False]\n",
            " [False  True False ... False False  True]]\n"
          ]
        }
      ]
    },
    {
      "cell_type": "markdown",
      "source": [
        "# Define Model"
      ],
      "metadata": {
        "id": "xkAepLDlpz0e"
      }
    },
    {
      "cell_type": "code",
      "source": [
        "device = torch.device(\"cuda\" if torch.cuda.is_available() else \"cpu\")"
      ],
      "metadata": {
        "id": "FByFVSLGp4el"
      },
      "execution_count": 24,
      "outputs": []
    },
    {
      "cell_type": "code",
      "source": [
        "from itertools import product\n",
        "from statistics import stdev\n",
        "from sklearn.metrics import mean_squared_error\n",
        "from math import sqrt\n",
        "import torch\n",
        "import torch.nn as nn\n",
        "import torch.optim as optim\n",
        "\n",
        "# Define ranges for hyperparameters\n",
        "theta_values = [5] #, 7, 10\n",
        "num_epochs_values = [100] #, 300, 500\n",
        "dropout_ratios = [0.7] #0.3, 0.5,\n",
        "\n",
        "# Results tracking\n",
        "best_rmse = float('inf')\n",
        "best_config = {}\n",
        "\n",
        "# Grid search over hyperparameters\n",
        "for theta, num_epochs, dropout_ratio in product(theta_values, num_epochs_values, dropout_ratios):\n",
        "    print(f\"Training with theta={theta}, num_epochs={num_epochs}, dropout_ratio={dropout_ratio}\")\n",
        "\n",
        "    # Update the model definition with new dropout_ratio\n",
        "    class Autoencoder(nn.Module):\n",
        "        def __init__(self, dim):\n",
        "            super(Autoencoder, self).__init__()\n",
        "            self.dim = dim\n",
        "            self.drop_out = nn.Dropout(p=dropout_ratio)\n",
        "            self.encoder = nn.Sequential(\n",
        "                nn.Linear(dim + theta * 0, dim + theta * 1),\n",
        "                nn.Tanh(),\n",
        "                nn.Linear(dim + theta * 1, dim + theta * 2),\n",
        "                nn.Tanh(),\n",
        "                nn.Linear(dim + theta * 2, dim + theta * 3),\n",
        "            )\n",
        "            self.decoder = nn.Sequential(\n",
        "                nn.Linear(dim + theta * 3, dim + theta * 2),\n",
        "                nn.Tanh(),\n",
        "                nn.Linear(dim + theta * 2, dim + theta * 1),\n",
        "                nn.Tanh(),\n",
        "                nn.Linear(dim + theta * 1, dim + theta * 0),\n",
        "            )\n",
        "\n",
        "        def forward(self, x):\n",
        "            x = x.view(-1, self.dim)\n",
        "            x_missed = self.drop_out(x)\n",
        "            z = self.encoder(x_missed)\n",
        "            out = self.decoder(z)\n",
        "            return out.view(-1, self.dim)\n",
        "\n",
        "    # Initialize model, optimizer, and scheduler\n",
        "    model = Autoencoder(dim=cols).to(device)\n",
        "    optimizer = optim.SGD(model.parameters(), lr=0.01, momentum=0.99, nesterov=True)\n",
        "    loss = nn.MSELoss()\n",
        "    scheduler = optim.lr_scheduler.StepLR(optimizer, step_size=50, gamma=0.5)  # Reduce LR every 50 epochs\n",
        "\n",
        "    # Training loop\n",
        "    early_stop = False\n",
        "    cost_list = []\n",
        "    for epoch in range(num_epochs):\n",
        "        total_batch = len(train_data) // batch_size\n",
        "        for i, batch_data in enumerate(train_loader):\n",
        "            batch_data = batch_data.to(device)\n",
        "\n",
        "            # Forward pass and loss computation\n",
        "            reconst_data = model(batch_data)\n",
        "            cost = loss(reconst_data, batch_data)\n",
        "\n",
        "            # Backpropagation\n",
        "            optimizer.zero_grad()\n",
        "            cost.backward()\n",
        "            optimizer.step()\n",
        "\n",
        "        # Update learning rate scheduler\n",
        "        scheduler.step()\n",
        "\n",
        "        # Early stopping based on MSE threshold\n",
        "        if cost.item() < 1e-6:\n",
        "            early_stop = True\n",
        "            break\n",
        "\n",
        "        cost_list.append(cost.item())\n",
        "\n",
        "    if early_stop:\n",
        "        print(f\"Early stopping at epoch {epoch+1}\")\n",
        "\n",
        "    # Evaluation\n",
        "    model.eval()\n",
        "    filled_data = model(missed_data.to(device))\n",
        "    filled_data = filled_data.cpu().detach().numpy()\n",
        "\n",
        "    rmse_values = []\n",
        "    for i in range(cols):\n",
        "        if mask[:, i].sum() > 0:\n",
        "            y_actual = test_data[:, i][mask[:, i]]\n",
        "            y_predicted = filled_data[:, i][mask[:, i]]\n",
        "            rmse = sqrt(mean_squared_error(y_actual, y_predicted))\n",
        "            rmse_values.append(rmse)\n",
        "\n",
        "    rmse_sum = sum(rmse_values)\n",
        "    rmse_std = stdev(rmse_values)\n",
        "\n",
        "    print(f\"RMSE_SUM for config theta={theta}, num_epochs={num_epochs}, dropout_ratio={dropout_ratio}: {rmse_sum}\")\n",
        "    print(f\"RMSE_STD for config theta={theta}, num_epochs={num_epochs}, dropout_ratio={dropout_ratio}: {rmse_std}\")\n",
        "\n",
        "    # Update best configuration\n",
        "    if rmse_sum < best_rmse:\n",
        "        best_rmse = rmse_sum\n",
        "        best_config = {\n",
        "            \"theta\": theta,\n",
        "            \"num_epochs\": num_epochs,\n",
        "            \"dropout_ratio\": dropout_ratio,\n",
        "            \"rmse_std\": rmse_std\n",
        "        }\n",
        "\n",
        "print(\"Best configuration:\", best_config)\n",
        "print(\"Best RMSE_SUM:\", best_rmse)\n",
        "print(\"Standard Deviation for Best RMSE_SUM:\", best_config[\"rmse_std\"])"
      ],
      "metadata": {
        "colab": {
          "base_uri": "https://localhost:8080/"
        },
        "id": "IkGZZ2TvusjW",
        "outputId": "e341173d-1ed2-45bd-c0b6-8693d2d1d1a4"
      },
      "execution_count": 25,
      "outputs": [
        {
          "output_type": "stream",
          "name": "stdout",
          "text": [
            "Training with theta=5, num_epochs=100, dropout_ratio=0.7\n",
            "RMSE_SUM for config theta=5, num_epochs=100, dropout_ratio=0.7: 1.8290643640868147\n",
            "RMSE_STD for config theta=5, num_epochs=100, dropout_ratio=0.7: 0.14723617772924397\n",
            "Best configuration: {'theta': 5, 'num_epochs': 100, 'dropout_ratio': 0.7, 'rmse_std': 0.14723617772924397}\n",
            "Best RMSE_SUM: 1.8290643640868147\n",
            "Standard Deviation for Best RMSE_SUM: 0.14723617772924397\n"
          ]
        }
      ]
    },
    {
      "cell_type": "code",
      "source": [
        "from sklearn.metrics import mean_squared_error\n",
        "\n",
        "rmse_per_feature = []\n",
        "\n",
        "# Compute RMSE for each feature\n",
        "for i in range(test_data.shape[1]):\n",
        "    if mask[:, i].sum() > 0:\n",
        "        y_actual = test_data[:, i][mask[:, i]]\n",
        "        y_predicted = filled_data[:, i][mask[:, i]]\n",
        "        rmse = np.sqrt(mean_squared_error(y_actual, y_predicted))\n",
        "        rmse_per_feature.append(rmse)\n",
        "    else:\n",
        "        rmse_per_feature.append(None)  # No missing values for this feature\n",
        "\n",
        "# Plot RMSE per feature\n",
        "plt.figure(figsize=(10, 6))\n",
        "plt.bar(range(len(rmse_per_feature)), [x if x is not None else 0 for x in rmse_per_feature])\n",
        "plt.xlabel(\"Feature Index\")\n",
        "plt.ylabel(\"RMSE\")\n",
        "plt.title(\"RMSE for Each Feature\")\n",
        "plt.grid()\n",
        "plt.show()\n"
      ],
      "metadata": {
        "colab": {
          "base_uri": "https://localhost:8080/",
          "height": 564
        },
        "id": "9Tlva4ibpfZR",
        "outputId": "bd39af07-6384-4176-bf49-56c643ff24e6"
      },
      "execution_count": 28,
      "outputs": [
        {
          "output_type": "display_data",
          "data": {
            "text/plain": [
              "<Figure size 1000x600 with 1 Axes>"
            ],
            "image/png": "[encoded data removed]"
          },
          "metadata": {}
        }
      ]
    }
  ],
  "metadata": {
    "kernelspec": {
      "display_name": "py310",
      "language": "python",
      "name": "python3"
    },
    "language_info": {
      "codemirror_mode": {
        "name": "ipython",
        "version": 3
      },
      "file_extension": ".py",
      "mimetype": "text/x-python",
      "name": "python",
      "nbconvert_exporter": "python",
      "pygments_lexer": "ipython3",
      "version": "3.10.13"
    },
    "colab": {
      "provenance": []
    }
  },
  "nbformat": 4,
  "nbformat_minor": 0
}