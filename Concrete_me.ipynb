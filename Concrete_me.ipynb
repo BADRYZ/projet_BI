{
  "cells": [
    {
      "cell_type": "markdown",
      "metadata": {
        "id": "Qxq327JAn3Wq"
      },
      "source": [
        "# Problem Framing\n",
        "\n",
        "The goal of this notebook is to develop and test different strategies of data imputation. We're gonna be using both supervised and unsupervised methods, and both traditional Machine Learning algorithms and state-of-the-art deep learning solutions.\n",
        "The discriminative ML methods we're gonna be using are:\n",
        "- KNN Imputer\n",
        "- Iterative Imputer\n",
        "\n",
        "And the DL methods include:\n",
        "- Iterative Multi-layer Perceptron (MLP) Imputer\n",
        "- Auto-encoder Imputer\n",
        "- Generative Adversarial Network (GAN) Imputer\n",
        "\n",
        "# Selecting a performance measure\n",
        "\n",
        "In this notebook, we're working on the diabetes dataset, which includes numerical attributes only. A good performance measure would be the `root mean squared error` (RMSE) averaged over all the predicted columns.\n"
      ]
    },
    {
      "cell_type": "markdown",
      "source": [
        "# Requirements"
      ],
      "metadata": {
        "id": "wGoOlC6IoWMm"
      }
    },
    {
      "cell_type": "code",
      "source": [
        "import os\n",
        "import random\n",
        "import numpy as np\n",
        "import pandas as pd\n",
        "from math import sqrt\n",
        "\n",
        "from sklearn.metrics import mean_squared_error\n",
        "from sklearn.preprocessing import MinMaxScaler\n",
        "\n",
        "import torch\n",
        "import torch.nn as nn\n",
        "import torch.utils.data\n",
        "import torch.optim as optim\n"
      ],
      "metadata": {
        "id": "9G5HAopnoc3n"
      },
      "execution_count": 28,
      "outputs": []
    },
    {
      "cell_type": "markdown",
      "metadata": {
        "id": "tNYZEyxhn3W3"
      },
      "source": [
        "# Download the data"
      ]
    },
    {
      "cell_type": "code",
      "execution_count": 29,
      "metadata": {
        "colab": {
          "base_uri": "https://localhost:8080/"
        },
        "id": "cHVYHVhun3W4",
        "outputId": "de99fec1-7d3d-4d70-b4a6-935cd37656f8"
      },
      "outputs": [
        {
          "output_type": "stream",
          "name": "stdout",
          "text": [
            "Warning: Looks like you're using an outdated `kagglehub` version, please consider updating (latest version: 0.3.5)\n",
            "Path to dataset files: /root/.cache/kagglehub/datasets/elikplim/concrete-compressive-strength-data-set/versions/1\n"
          ]
        }
      ],
      "source": [
        "import kagglehub\n",
        "\n",
        "# Download latest version\n",
        "path = kagglehub.dataset_download(\"elikplim/concrete-compressive-strength-data-set\")\n",
        "\n",
        "print(\"Path to dataset files:\", path)"
      ]
    },
    {
      "cell_type": "markdown",
      "source": [
        "# Set Args"
      ],
      "metadata": {
        "id": "bNkvNhn9opRe"
      }
    },
    {
      "cell_type": "code",
      "source": [
        "theta = 7\n",
        "num_epochs = 500\n",
        "dropout_ratio = 0.5\n",
        "\n",
        "data_path = \"/root/.cache/kagglehub/datasets/elikplim/concrete-compressive-strength-data-set/versions/1/concrete_data.csv\"\n",
        "mechanism = 'mcar'\n",
        "method = 'uniform'\n",
        "\n",
        "test_size = 0.4\n",
        "use_cuda = True\n",
        "batch_size  = 8"
      ],
      "metadata": {
        "id": "OFcRbEJnouIX"
      },
      "execution_count": 30,
      "outputs": []
    },
    {
      "cell_type": "markdown",
      "source": [
        "# Prepare Data"
      ],
      "metadata": {
        "id": "7ehkjydNo8sS"
      }
    },
    {
      "cell_type": "code",
      "source": [
        "df = pd.read_csv(data_path)\n",
        "df.columns"
      ],
      "metadata": {
        "colab": {
          "base_uri": "https://localhost:8080/"
        },
        "id": "CTZZ0QSjKtMv",
        "outputId": "00e9a201-1f31-496e-d419-da2382435cab"
      },
      "execution_count": 31,
      "outputs": [
        {
          "output_type": "execute_result",
          "data": {
            "text/plain": [
              "Index(['cement', 'blast_furnace_slag', 'fly_ash', 'water', 'superplasticizer',\n",
              "       'coarse_aggregate', 'fine_aggregate ', 'age',\n",
              "       'concrete_compressive_strength'],\n",
              "      dtype='object')"
            ]
          },
          "metadata": {},
          "execution_count": 31
        }
      ]
    },
    {
      "cell_type": "code",
      "source": [
        "import pandas as pd\n",
        "import numpy as np\n",
        "from sklearn.preprocessing import FunctionTransformer, PowerTransformer, MinMaxScaler\n",
        "from sklearn.model_selection import train_test_split\n",
        "\n",
        "# Load the dataset\n",
        "data = pd.read_csv(data_path)\n",
        "\n",
        "row, cols = data.shape\n",
        "print(f\"Rows: {row}, Columns: {cols}\")\n",
        "\n",
        "\n",
        "# Stratified train-test split based on Age_cat\n",
        "train_set, test_set = train_test_split(\n",
        "    data, test_size=0.4\n",
        ")\n",
        "\n",
        "\n",
        "\n",
        "# Convert to NumPy arrays for further processing\n",
        "train_data = train_set.values\n",
        "test_data = test_set.values\n",
        "\n",
        "# Standardize data between 0 and 1 using MinMaxScaler\n",
        "scaler = MinMaxScaler()\n",
        "scaler.fit(train_data)\n",
        "train_data = scaler.transform(train_data)\n",
        "test_data = scaler.transform(test_data)\n"
      ],
      "metadata": {
        "id": "q168p71zpFHU",
        "colab": {
          "base_uri": "https://localhost:8080/"
        },
        "outputId": "5ad15e42-e25b-4241-d1cf-2de692c95e6f"
      },
      "execution_count": 32,
      "outputs": [
        {
          "output_type": "stream",
          "name": "stdout",
          "text": [
            "Rows: 1030, Columns: 9\n"
          ]
        }
      ]
    },
    {
      "cell_type": "code",
      "source": [
        "def missing_method(raw_data, mechanism='mcar', method='uniform', missing_threshold=0.5, random_state=42):\n",
        "\n",
        "    np.random.seed(random_state)\n",
        "    data = raw_data.copy()\n",
        "    rows, cols = data.shape\n",
        "    t = missing_threshold\n",
        "\n",
        "    if mechanism == 'mcar':\n",
        "        v = np.random.uniform(size=(rows, cols))\n",
        "        if method == 'uniform':\n",
        "            mask = v <= t\n",
        "        elif method == 'random':\n",
        "            c = np.zeros(cols, dtype=bool)\n",
        "            c[np.random.choice(cols, cols // 2, replace=False)] = True\n",
        "            mask = (v <= t) & c[np.newaxis, :]\n",
        "        else:\n",
        "            raise ValueError(f\"Unknown method: {method}\")\n",
        "    elif mechanism == 'mnar':\n",
        "        sample_cols = np.random.choice(cols, 2, replace=False)\n",
        "        m1, m2 = np.median(data[:, sample_cols], axis=0)\n",
        "        v = np.random.uniform(size=(rows, cols))\n",
        "        m = (data[:, sample_cols[0]] <= m1) & (data[:, sample_cols[1]] >= m2)\n",
        "        mask = v <= t\n",
        "        if method == 'uniform':\n",
        "            mask &= m[:, np.newaxis]\n",
        "        elif method == 'random':\n",
        "            c = np.zeros(cols, dtype=bool)\n",
        "            c[np.random.choice(cols, cols // 2, replace=False)] = True\n",
        "            mask &= m[:, np.newaxis] & c[np.newaxis, :]\n",
        "        else:\n",
        "            raise ValueError(f\"Unknown method: {method}\")\n",
        "    else:\n",
        "        raise ValueError(f\"Unknown mechanism: {mechanism}\")\n",
        "\n",
        "    data[mask] = 0\n",
        "    return data, mask"
      ],
      "metadata": {
        "id": "LOIDULZipbYG"
      },
      "execution_count": 33,
      "outputs": []
    },
    {
      "cell_type": "code",
      "source": [
        "def MCAR2unifo(inputX, mr):\n",
        "    \"\"\"\n",
        "    Generate MCAR (Missing Completely At Random) data by introducing missing values\n",
        "    into the input matrix at a given missing rate.\n",
        "\n",
        "    Parameters:\n",
        "        inputX (ndarray): Matrix of data (n patterns x p features)\n",
        "        mr (float): Desired missing rate (percentage, 0-100)\n",
        "\n",
        "    Returns:\n",
        "        ndarray: Matrix with missing values introduced (NaN)\n",
        "\n",
        "    References:\n",
        "        Garciarena, Unai, and Roberto Santana. \"An extensive analysis of the interaction between missing data types,\n",
        "        imputation methods, and supervised classifiers.\" Expert Systems with Applications 89 (2017): 52-65.\n",
        "    \"\"\"\n",
        "    outputX = inputX.copy()\n",
        "\n",
        "    # Determine dimensions\n",
        "    n, p = outputX.shape\n",
        "\n",
        "    # Calculate total number of elements to make missing\n",
        "    T = int(round(n * p * mr / 100))\n",
        "\n",
        "    # Randomly select T unique indices from the flattened array\n",
        "    indices = np.random.choice(n * p, T, replace=False)\n",
        "\n",
        "    # Flatten the array for easier indexing\n",
        "    flat_array = outputX.ravel()\n",
        "\n",
        "    # Set the selected indices to NaN\n",
        "    flat_array[indices] = np.nan\n",
        "\n",
        "    # Reshape back to original shape\n",
        "    outputX = flat_array.reshape((n, p))\n",
        "\n",
        "    # Define threshold\n",
        "    thresh = 1\n",
        "\n",
        "    try:\n",
        "        nFeaturesRisk = np.sum(np.sum(np.isnan(outputX), axis=0) >= n - thresh)\n",
        "    except TypeError:\n",
        "        nFeaturesRisk = 0\n",
        "\n",
        "    # Check for patterns with all values (or almost all) missing\n",
        "    try:\n",
        "        nPatternsRisk = np.sum(np.sum(np.isnan(outputX), axis=1) >= p - thresh)\n",
        "    except TypeError:\n",
        "        nPatternsRisk = 0\n",
        "\n",
        "    # Raise warnings if necessary\n",
        "    if nFeaturesRisk > 0:\n",
        "        warnings.warn(f\"FEATURES at risk of being all NaN: {nFeaturesRisk}\")\n",
        "    if nPatternsRisk > 0:\n",
        "        warnings.warn(f\"PATTERNS at risk of being all NaN: {nPatternsRisk}\")\n",
        "\n",
        "    return outputX\n",
        "\n",
        "def imputation_rmse(clean_data, imputed_data, missing_mask):\n",
        "    \"\"\"\n",
        "    Calculate Root Mean Square Error (RMSE) for imputed values\n",
        "\n",
        "    Parameters:\n",
        "    -----------\n",
        "    clean_data : numpy.ndarray\n",
        "        The original, complete dataset\n",
        "    imputed_data : numpy.ndarray\n",
        "        The dataset after imputation\n",
        "    missing_mask : numpy.ndarray, optional\n",
        "        Mask indicating missing values in the original dataset.\n",
        "\n",
        "    Returns:\n",
        "    --------\n",
        "    float\n",
        "        Root Mean Square Error for the imputed values\n",
        "    dict\n",
        "        Detailed performance metrics\n",
        "    \"\"\"\n",
        "    # Validate input shapes\n",
        "    if clean_data.shape != imputed_data.shape:\n",
        "        raise ValueError(\"Clean and imputed datasets must have the same shape\")\n",
        "\n",
        "    # Ensure mask is boolean\n",
        "    missing_mask = missing_mask.astype(bool)\n",
        "\n",
        "    # Calculate errors only for missing values\n",
        "    errors = clean_data[missing_mask] - imputed_data[missing_mask]\n",
        "\n",
        "    # Calculate RMSE\n",
        "    rmse = np.sqrt(np.mean(errors**2))\n",
        "\n",
        "    # Additional performance metrics\n",
        "    metrics = {\n",
        "        'rmse': rmse,\n",
        "        'mae': np.mean(np.abs(errors)),\n",
        "        'total_missing': np.sum(missing_mask),\n",
        "        'missing_percentage': np.sum(missing_mask) / missing_mask.size * 100,\n",
        "        'min_error': np.abs(np.min(errors)),\n",
        "        'max_error': np.abs(np.max(errors)),\n",
        "        'std_error': np.std(errors)\n",
        "    }\n",
        "\n",
        "    return metrics\n",
        "\n",
        "def custom_imputation_error_onehot(clean_data, imputed_data, missing_mask, column_types, onehot_indices):\n",
        "    \"\"\"\n",
        "    Calculate a weighted error metric for imputed values with one-hot encoding for categorical columns.\n",
        "\n",
        "    Parameters:\n",
        "    -----------\n",
        "    clean_data : numpy.ndarray\n",
        "        The original, complete dataset (in one-hot format for categorical columns).\n",
        "    imputed_data : numpy.ndarray\n",
        "        The dataset after imputation (in one-hot format for categorical columns).\n",
        "    missing_mask : numpy.ndarray\n",
        "        Mask indicating missing values in the original dataset.\n",
        "    column_types : list of str\n",
        "        List indicating the type of each original column: 'categorical' or 'numerical'.\n",
        "    onehot_indices : dict\n",
        "        A dictionary where keys are the indices of categorical columns in the original dataset,\n",
        "        and values are the indices of their corresponding one-hot-encoded columns.\n",
        "\n",
        "    Returns:\n",
        "    --------\n",
        "    dict\n",
        "        Combined weighted error and individual errors.\n",
        "    \"\"\"\n",
        "    # Validate input\n",
        "    if clean_data.shape != imputed_data.shape:\n",
        "        raise ValueError(\"Clean and imputed datasets must have the same shape\")\n",
        "\n",
        "    missing_mask = missing_mask.astype(bool)\n",
        "    n_cols = len(column_types)\n",
        "\n",
        "    # Separate weights for categorical and numerical columns\n",
        "    n_cat = sum(1 for t in column_types if t == 'categorical')\n",
        "    n_num = sum(1 for t in column_types if t == 'numerical')\n",
        "\n",
        "    total_columns = n_cat + n_num\n",
        "    w_cat = n_cat / total_columns if n_cat > 0 else 0\n",
        "    w_num = n_num / total_columns if n_num > 0 else 0\n",
        "\n",
        "    # Cross-entropy for categorical columns\n",
        "    ce = 0\n",
        "    if n_cat > 0:\n",
        "        for col_idx, onehot_range in onehot_indices.items():\n",
        "            # Get indices for one-hot encoded columns\n",
        "            onehot_cols = onehot_range\n",
        "            cat_clean = clean_data[:, onehot_cols]\n",
        "            cat_imputed = imputed_data[:, onehot_cols]\n",
        "            cat_missing_mask = missing_mask[:, onehot_cols[0]]  # Check first column in one-hot range\n",
        "\n",
        "            # Filter rows with missing values\n",
        "            if np.any(cat_missing_mask):\n",
        "                clean_rows = cat_clean[cat_missing_mask]\n",
        "                imputed_rows = cat_imputed[cat_missing_mask]\n",
        "                ce += log_loss(clean_rows, imputed_rows)\n",
        "        ce /= n_cat  # Average cross-entropy across categorical columns\n",
        "\n",
        "    # RMSE for numerical columns\n",
        "    rmse = 0\n",
        "    if n_num > 0:\n",
        "        num_indices = [i for i, t in enumerate(column_types) if t == 'numerical']\n",
        "        num_clean = clean_data[:, num_indices]\n",
        "        num_imputed = imputed_data[:, num_indices]\n",
        "        num_missing_mask = missing_mask[:, num_indices]\n",
        "\n",
        "        errors = num_clean[num_missing_mask] - num_imputed[num_missing_mask]\n",
        "        rmse = np.sqrt(np.mean(errors**2))\n",
        "\n",
        "    # Weighted sum of errors\n",
        "    weighted_error = w_cat * ce + w_num * rmse\n",
        "\n",
        "    return {\n",
        "        'weighted_error': weighted_error,\n",
        "        'categorical_error': ce,\n",
        "        'numerical_error': rmse,\n",
        "        'weights': {'categorical': w_cat, 'numerical': w_num}\n",
        "    }\n"
      ],
      "metadata": {
        "id": "NAiQKA1PCSIY"
      },
      "execution_count": 34,
      "outputs": []
    },
    {
      "cell_type": "code",
      "source": [
        "# missed_data = MCAR2unifo(test_data, 10)\n",
        "# mask = np.isnan(test_data)"
      ],
      "metadata": {
        "id": "5wDXznoXCWnY"
      },
      "execution_count": 35,
      "outputs": []
    },
    {
      "cell_type": "code",
      "source": [
        "missed_data, mask = missing_method(test_data, mechanism=mechanism, method=method)\n",
        "\n",
        "missed_data = torch.from_numpy(missed_data).float()\n",
        "train_data = torch.from_numpy(train_data).float()\n",
        "\n",
        "train_loader = torch.utils.data.DataLoader(dataset=train_data,\n",
        "                                           batch_size=batch_size,\n",
        "                                           shuffle=True)"
      ],
      "metadata": {
        "id": "SP5PluslpviB"
      },
      "execution_count": 36,
      "outputs": []
    },
    {
      "cell_type": "code",
      "source": [
        "print(\"Original Data:\\n\", data)\n",
        "print(\"Modified Data (with missing values):\\n\", missed_data)\n",
        "print(\"Mask of Missing Values:\\n\", mask)"
      ],
      "metadata": {
        "colab": {
          "base_uri": "https://localhost:8080/"
        },
        "id": "3PQJ0vqRv07l",
        "outputId": "76fa08c3-c3f1-4a5e-958e-f628ef664b51"
      },
      "execution_count": 37,
      "outputs": [
        {
          "output_type": "stream",
          "name": "stdout",
          "text": [
            "Original Data:\n",
            "       cement  blast_furnace_slag  fly_ash  water  superplasticizer  \\\n",
            "0      540.0                 0.0      0.0  162.0               2.5   \n",
            "1      540.0                 0.0      0.0  162.0               2.5   \n",
            "2      332.5               142.5      0.0  228.0               0.0   \n",
            "3      332.5               142.5      0.0  228.0               0.0   \n",
            "4      198.6               132.4      0.0  192.0               0.0   \n",
            "...      ...                 ...      ...    ...               ...   \n",
            "1025   276.4               116.0     90.3  179.6               8.9   \n",
            "1026   322.2                 0.0    115.6  196.0              10.4   \n",
            "1027   148.5               139.4    108.6  192.7               6.1   \n",
            "1028   159.1               186.7      0.0  175.6              11.3   \n",
            "1029   260.9               100.5     78.3  200.6               8.6   \n",
            "\n",
            "      coarse_aggregate  fine_aggregate   age  concrete_compressive_strength  \n",
            "0               1040.0            676.0   28                          79.99  \n",
            "1               1055.0            676.0   28                          61.89  \n",
            "2                932.0            594.0  270                          40.27  \n",
            "3                932.0            594.0  365                          41.05  \n",
            "4                978.4            825.5  360                          44.30  \n",
            "...                ...              ...  ...                            ...  \n",
            "1025             870.1            768.3   28                          44.28  \n",
            "1026             817.9            813.4   28                          31.18  \n",
            "1027             892.4            780.0   28                          23.70  \n",
            "1028             989.6            788.9   28                          32.77  \n",
            "1029             864.5            761.5   28                          32.40  \n",
            "\n",
            "[1030 rows x 9 columns]\n",
            "Modified Data (with missing values):\n",
            " tensor([[0.0000, 0.6942, 0.0000,  ..., 0.0000, 0.0165, 0.2780],\n",
            "        [0.6404, 0.0000, 0.0000,  ..., 0.0000, 0.0000, 0.4212],\n",
            "        [0.0000, 0.0000, 0.8564,  ..., 0.0000, 0.2720, 0.0000],\n",
            "        ...,\n",
            "        [0.0000, 0.0000, 0.0000,  ..., 0.0000, 0.0000, 0.0000],\n",
            "        [0.4087, 0.0000, 0.0000,  ..., 0.4516, 0.0165, 0.1273],\n",
            "        [0.0000, 0.1388, 0.0000,  ..., 0.0000, 0.0165, 0.0000]])\n",
            "Mask of Missing Values:\n",
            " [[ True False False ...  True False False]\n",
            " [False  True False ...  True  True False]\n",
            " [ True  True False ...  True False  True]\n",
            " ...\n",
            " [ True False  True ...  True  True  True]\n",
            " [False False False ... False False False]\n",
            " [ True False False ... False False  True]]\n"
          ]
        }
      ]
    },
    {
      "cell_type": "markdown",
      "source": [
        "# Define Model"
      ],
      "metadata": {
        "id": "xkAepLDlpz0e"
      }
    },
    {
      "cell_type": "code",
      "source": [
        "device = torch.device(\"cuda\" if torch.cuda.is_available() else \"cpu\")"
      ],
      "metadata": {
        "id": "FByFVSLGp4el"
      },
      "execution_count": 38,
      "outputs": []
    },
    {
      "cell_type": "code",
      "source": [
        "from itertools import product\n",
        "from statistics import stdev\n",
        "from sklearn.metrics import mean_squared_error\n",
        "from math import sqrt\n",
        "import torch\n",
        "import torch.nn as nn\n",
        "import torch.optim as optim\n",
        "\n",
        "# Define ranges for hyperparameters\n",
        "theta_values = [5]\n",
        "num_epochs_values = [100] #, 300, 500\n",
        "dropout_ratios = [0.7] #0.3, 0.5,\n",
        "\n",
        "# Results tracking\n",
        "best_rmse = float('inf')\n",
        "best_config = {}\n",
        "\n",
        "# Grid search over hyperparameters\n",
        "for theta, num_epochs, dropout_ratio in product(theta_values, num_epochs_values, dropout_ratios):\n",
        "    print(f\"Training with theta={theta}, num_epochs={num_epochs}, dropout_ratio={dropout_ratio}\")\n",
        "\n",
        "    # Update the model definition with new dropout_ratio\n",
        "    class Autoencoder(nn.Module):\n",
        "        def __init__(self, dim):\n",
        "            super(Autoencoder, self).__init__()\n",
        "            self.dim = dim\n",
        "            self.drop_out = nn.Dropout(p=dropout_ratio)\n",
        "            self.encoder = nn.Sequential(\n",
        "                nn.Linear(dim + theta * 0, dim + theta * 1),\n",
        "                nn.Tanh(),\n",
        "                nn.Linear(dim + theta * 1, dim + theta * 2),\n",
        "                nn.Tanh(),\n",
        "                nn.Linear(dim + theta * 2, dim + theta * 3),\n",
        "            )\n",
        "            self.decoder = nn.Sequential(\n",
        "                nn.Linear(dim + theta * 3, dim + theta * 2),\n",
        "                nn.Tanh(),\n",
        "                nn.Linear(dim + theta * 2, dim + theta * 1),\n",
        "                nn.Tanh(),\n",
        "                nn.Linear(dim + theta * 1, dim + theta * 0),\n",
        "            )\n",
        "\n",
        "        def forward(self, x):\n",
        "            x = x.view(-1, self.dim)\n",
        "            x_missed = self.drop_out(x)\n",
        "            z = self.encoder(x_missed)\n",
        "            out = self.decoder(z)\n",
        "            return out.view(-1, self.dim)\n",
        "\n",
        "    # Initialize model, optimizer, and scheduler\n",
        "    model = Autoencoder(dim=cols).to(device)\n",
        "    optimizer = optim.SGD(model.parameters(), lr=0.01, momentum=0.99, nesterov=True)\n",
        "    loss = nn.MSELoss()\n",
        "    scheduler = optim.lr_scheduler.StepLR(optimizer, step_size=50, gamma=0.5)  # Reduce LR every 50 epochs\n",
        "\n",
        "    # Training loop\n",
        "    early_stop = False\n",
        "    cost_list = []\n",
        "    for epoch in range(num_epochs):\n",
        "        total_batch = len(train_data) // batch_size\n",
        "        for i, batch_data in enumerate(train_loader):\n",
        "            batch_data = batch_data.to(device)\n",
        "\n",
        "            # Forward pass and loss computation\n",
        "            reconst_data = model(batch_data)\n",
        "            cost = loss(reconst_data, batch_data)\n",
        "\n",
        "            # Backpropagation\n",
        "            optimizer.zero_grad()\n",
        "            cost.backward()\n",
        "            optimizer.step()\n",
        "\n",
        "        # Update learning rate scheduler\n",
        "        scheduler.step()\n",
        "\n",
        "        # Early stopping based on MSE threshold\n",
        "        if cost.item() < 1e-6:\n",
        "            early_stop = True\n",
        "            break\n",
        "\n",
        "        cost_list.append(cost.item())\n",
        "\n",
        "    if early_stop:\n",
        "        print(f\"Early stopping at epoch {epoch+1}\")\n",
        "\n",
        "    # Evaluation\n",
        "    model.eval()\n",
        "    filled_data = model(missed_data.to(device))\n",
        "    filled_data = filled_data.cpu().detach().numpy()\n",
        "\n",
        "    rmse_values = []\n",
        "    for i in range(cols):\n",
        "        if mask[:, i].sum() > 0:\n",
        "            y_actual = test_data[:, i][mask[:, i]]\n",
        "            y_predicted = filled_data[:, i][mask[:, i]]\n",
        "            rmse = sqrt(mean_squared_error(y_actual, y_predicted))\n",
        "            rmse_values.append(rmse)\n",
        "\n",
        "    rmse_sum = sum(rmse_values)\n",
        "    # rmse_std = stdev(rmse_values)\n",
        "\n",
        "    print(f\"RMSE_SUM for config theta={theta}, num_epochs={num_epochs}, dropout_ratio={dropout_ratio}: {rmse_sum}\")\n",
        "    # print(f\"RMSE_STD for config theta={theta}, num_epochs={num_epochs}, dropout_ratio={dropout_ratio}: {rmse_std}\")\n",
        "\n",
        "    # Update best configuration\n",
        "    if rmse_sum < best_rmse:\n",
        "        best_rmse = rmse_sum\n",
        "        best_config = {\n",
        "            \"theta\": theta,\n",
        "            \"num_epochs\": num_epochs,\n",
        "            \"dropout_ratio\": dropout_ratio,\n",
        "            # \"rmse_std\": rmse_std\n",
        "        }\n",
        "\n",
        "print(\"Best configuration:\", best_config)\n",
        "print(\"Best RMSE_SUM:\", best_rmse)\n",
        "# print(\"Standard Deviation for Best RMSE_SUM:\", best_config[\"rmse_std\"])"
      ],
      "metadata": {
        "colab": {
          "base_uri": "https://localhost:8080/"
        },
        "id": "IkGZZ2TvusjW",
        "outputId": "d12cf599-82e2-4d43-b6fd-825852172a40"
      },
      "execution_count": 39,
      "outputs": [
        {
          "output_type": "stream",
          "name": "stdout",
          "text": [
            "Training with theta=5, num_epochs=100, dropout_ratio=0.7\n",
            "RMSE_SUM for config theta=5, num_epochs=100, dropout_ratio=0.7: 2.026545635999267\n",
            "Best configuration: {'theta': 5, 'num_epochs': 100, 'dropout_ratio': 0.7}\n",
            "Best RMSE_SUM: 2.026545635999267\n"
          ]
        }
      ]
    },
    {
      "cell_type": "code",
      "source": [
        "def imputation_rmse(clean_data, imputed_data, missing_mask):\n",
        "    \"\"\"\n",
        "    Calculate Root Mean Square Error (RMSE) for imputed values\n",
        "\n",
        "    Parameters:\n",
        "    -----------\n",
        "    clean_data : numpy.ndarray\n",
        "        The original, complete dataset\n",
        "    imputed_data : numpy.ndarray\n",
        "        The dataset after imputation\n",
        "    missing_mask : numpy.ndarray, optional\n",
        "        Mask indicating missing values in the original dataset.\n",
        "\n",
        "    Returns:\n",
        "    --------\n",
        "    float\n",
        "        Root Mean Square Error for the imputed values\n",
        "    dict\n",
        "        Detailed performance metrics\n",
        "    \"\"\"\n",
        "    # Validate input shapes\n",
        "    if clean_data.shape != imputed_data.shape:\n",
        "        raise ValueError(\"Clean and imputed datasets must have the same shape\")\n",
        "\n",
        "    # Ensure mask is boolean\n",
        "    missing_mask = missing_mask.astype(bool)\n",
        "\n",
        "    # Convert clean_data to NumPy array if it's a PyTorch tensor\n",
        "    if isinstance(clean_data, torch.Tensor):\n",
        "        clean_data = clean_data.cpu().numpy() # Convert clean_data to numpy\n",
        "\n",
        "    # Calculate errors only for missing values\n",
        "    errors = clean_data[missing_mask] - imputed_data[missing_mask]\n",
        "\n",
        "    # Calculate RMSE\n",
        "    rmse = np.sqrt(np.mean(errors**2))\n",
        "\n",
        "    # Additional performance metrics\n",
        "    metrics = {\n",
        "        'rmse': rmse,\n",
        "        'mae': np.mean(np.abs(errors)),\n",
        "        'total_missing': np.sum(missing_mask),\n",
        "        'missing_percentage': np.sum(missing_mask) / missing_mask.size * 100,\n",
        "        'min_error': np.abs(np.min(errors)),\n",
        "        'max_error': np.abs(np.max(errors)),\n",
        "        'std_error': np.std(errors)\n",
        "    }\n",
        "\n",
        "    return rmse, metrics"
      ],
      "metadata": {
        "id": "VFRtS_pHTL0d"
      },
      "execution_count": 40,
      "outputs": []
    },
    {
      "cell_type": "code",
      "source": [
        "test_data = torch.from_numpy(test_data).float()"
      ],
      "metadata": {
        "id": "QmTwBP4wTV_5"
      },
      "execution_count": 41,
      "outputs": []
    },
    {
      "cell_type": "code",
      "source": [
        "imputation_rmse(test_data, filled_data, mask)"
      ],
      "metadata": {
        "colab": {
          "base_uri": "https://localhost:8080/"
        },
        "id": "D1KWXnyiTkNR",
        "outputId": "a1ad9aeb-2c3c-464a-cdf9-4255ec795e8a"
      },
      "execution_count": 42,
      "outputs": [
        {
          "output_type": "execute_result",
          "data": {
            "text/plain": [
              "(0.22925824,\n",
              " {'rmse': 0.22925824,\n",
              "  'mae': 0.17716187,\n",
              "  'total_missing': 1841,\n",
              "  'missing_percentage': 49.64940668824164,\n",
              "  'min_error': 0.49317735,\n",
              "  'max_error': 0.9457799,\n",
              "  'std_error': 0.22788435})"
            ]
          },
          "metadata": {},
          "execution_count": 42
        }
      ]
    },
    {
      "cell_type": "code",
      "source": [
        "import matplotlib.pyplot as plt\n",
        "import numpy as np\n",
        "\n",
        "# Data\n",
        "values = [0.21597764, 0.21922226, 0.21976356, 0.21360731, 0.21360731]\n",
        "indices = np.arange(1, len(values) + 1)\n",
        "\n",
        "# Plot styles\n",
        "plt.figure(figsize=(12, 8))\n",
        "\n",
        "# Line plot\n",
        "plt.subplot(2, 2, 1)\n",
        "plt.plot(indices, values, marker='o', linestyle='-', color='b')\n",
        "plt.title(\"Line Plot\")\n",
        "plt.xlabel(\"Index\")\n",
        "plt.ylabel(\"Value\")\n",
        "plt.grid(True)\n",
        "\n",
        "# Bar plot\n",
        "plt.subplot(2, 2, 2)\n",
        "plt.bar(indices, values, color='orange', alpha=0.7)\n",
        "plt.title(\"Bar Plot\")\n",
        "plt.xlabel(\"Index\")\n",
        "plt.ylabel(\"Value\")\n",
        "\n",
        "# Scatter plot\n",
        "plt.subplot(2, 2, 3)\n",
        "plt.scatter(indices, values, color='green', s=100)\n",
        "plt.title(\"Scatter Plot\")\n",
        "plt.xlabel(\"Index\")\n",
        "plt.ylabel(\"Value\")\n",
        "plt.grid(True)\n",
        "\n",
        "# Horizontal bar plot\n",
        "plt.subplot(2, 2, 4)\n",
        "plt.barh(indices, values, color='purple', alpha=0.7)\n",
        "plt.title(\"Horizontal Bar Plot\")\n",
        "plt.xlabel(\"Value\")\n",
        "plt.ylabel(\"Index\")\n",
        "\n",
        "plt.suptitle(\"Visualization of Values of RMSE for Concrete\", fontsize=16, fontweight='bold')\n",
        "\n",
        "# Show plots\n",
        "plt.tight_layout()\n",
        "plt.show()\n"
      ],
      "metadata": {
        "colab": {
          "base_uri": "https://localhost:8080/",
          "height": 784
        },
        "id": "RaRPRuFUKzZq",
        "outputId": "c6152beb-ba30-445b-f2ae-01bc39f49d81"
      },
      "execution_count": 43,
      "outputs": [
        {
          "output_type": "display_data",
          "data": {
            "text/plain": [
              "<Figure size 1200x800 with 4 Axes>"
            ],
            "image/png": "[encoded data removed]"
          },
          "metadata": {}
        }
      ]
    },
    {
      "cell_type": "code",
      "source": [
        "import matplotlib.pyplot as plt\n",
        "\n",
        "def plot_rmse_repeated_runs(runs, model1_rmse, model2_rmse, model3_rmse, model4_rmse, model1_label=\"Model 1\", model2_label=\"Model 2\", model3_label=\"Model 3\", model4_label=\"Model 4\"):\n",
        "    \"\"\"\n",
        "    Plots RMSE values of four models across multiple runs.\n",
        "\n",
        "    Parameters:\n",
        "    - runs: List of run numbers (e.g., [1, 2, 3, ..., N]).\n",
        "    - model1_rmse: List of RMSE values for the first model corresponding to the runs.\n",
        "    - model2_rmse: List of RMSE values for the second model.\n",
        "    - model3_rmse: List of RMSE values for the third model.\n",
        "    - model4_rmse: List of RMSE values for the fourth model.\n",
        "    - model1_label: Label for the first model in the legend.\n",
        "    - model2_label: Label for the second model in the legend.\n",
        "    - model3_label: Label for the third model in the legend.\n",
        "    - model4_label: Label for the fourth model in the legend.\n",
        "    \"\"\"\n",
        "    plt.figure(figsize=(10, 6))\n",
        "    plt.plot(runs, model1_rmse, marker='o', label=model1_label, linestyle='-')\n",
        "    plt.plot(runs, model2_rmse, marker='s', label=model2_label, linestyle='--')\n",
        "    plt.plot(runs, model3_rmse, marker='^', label=model3_label, linestyle=':')\n",
        "    plt.plot(runs, model4_rmse, marker='d', label=model4_label, linestyle='-.')\n",
        "\n",
        "    plt.title(\"RMSE Across Repeated Runs - Concrete Dataset\")\n",
        "    plt.xlabel(\"Run\")\n",
        "    plt.ylabel(\"RMSE\")\n",
        "    plt.grid(True, linestyle='--', alpha=0.7)\n",
        "    plt.legend()\n",
        "    plt.xticks(runs)\n",
        "    plt.tight_layout()\n",
        "\n",
        "    plt.show()"
      ],
      "metadata": {
        "id": "KsfSLtrv0FbB"
      },
      "execution_count": 45,
      "outputs": []
    },
    {
      "cell_type": "code",
      "source": [
        "dae = [0.21597764, 0.21922226, 0.21976356, 0.21360731, 0.21360731]\n",
        "missforest =  [1.078, 1.022, 0.992, 1.037, 0.98]\n",
        "gan = [1.1105488983300151, 1.0890408275324, 1.069578745538796, 1.0494645091993844, 0.9965642797781885]\n",
        "knn = [1.0647126414731174, 1.0630003019285634, 1.0831772258354333,1.0604072260688782,1.0647428782639163]\n",
        "\n",
        "plot_rmse_repeated_runs([1, 2, 3, 4, 5], dae, missforest, gan, knn, model1_label=\"DAE\", model2_label=\"IterativeImputer\", model3_label=\"GAIN\", model4_label=\"KNN\")"
      ],
      "metadata": {
        "colab": {
          "base_uri": "https://localhost:8080/",
          "height": 607
        },
        "id": "P6s_ELyI0G-d",
        "outputId": "d682aa72-3cb9-456e-98ab-25079867ae6f"
      },
      "execution_count": 46,
      "outputs": [
        {
          "output_type": "display_data",
          "data": {
            "text/plain": [
              "<Figure size 1000x600 with 1 Axes>"
            ],
            "image/png": "[encoded data removed]"
          },
          "metadata": {}
        }
      ]
    }
  ],
  "metadata": {
    "kernelspec": {
      "display_name": "py310",
      "language": "python",
      "name": "python3"
    },
    "language_info": {
      "codemirror_mode": {
        "name": "ipython",
        "version": 3
      },
      "file_extension": ".py",
      "mimetype": "text/x-python",
      "name": "python",
      "nbconvert_exporter": "python",
      "pygments_lexer": "ipython3",
      "version": "3.10.13"
    },
    "colab": {
      "provenance": []
    }
  },
  "nbformat": 4,
  "nbformat_minor": 0
}